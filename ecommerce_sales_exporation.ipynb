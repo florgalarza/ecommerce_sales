{
 "cells": [
  {
   "cell_type": "code",
   "execution_count": 1,
   "metadata": {},
   "outputs": [],
   "source": [
    "#Carga de librerias\n",
    "import pandas as pd\n",
    "import numpy as np\n",
    "import matplotlib.pyplot as plt\n",
    "import seaborn as sns\n",
    "from sklearn.feature_extraction.text import CountVectorizer"
   ]
  },
  {
   "cell_type": "code",
   "execution_count": 2,
   "metadata": {},
   "outputs": [],
   "source": [
    "#Carga de dataset\n",
    "df = pd.read_csv('amazon_raw.csv')\n",
    "df_transform = df.copy()"
   ]
  },
  {
   "cell_type": "code",
   "execution_count": 3,
   "metadata": {},
   "outputs": [
    {
     "name": "stdout",
     "output_type": "stream",
     "text": [
      "         Order ID Order Date   Ship Date                   EmailID  \\\n",
      "0  CA-2013-138688  6/13/2013   6/17/2013   DarrinVanHuff@gmail.com   \n",
      "1  CA-2011-115812   6/9/2011   6/14/2011  BrosinaHoffman@gmail.com   \n",
      "2  CA-2011-115812   6/9/2011   6/14/2011  BrosinaHoffman@gmail.com   \n",
      "3  CA-2011-115812   6/9/2011   6/14/2011  BrosinaHoffman@gmail.com   \n",
      "4  CA-2011-115812   6/9/2011   6/14/2011  BrosinaHoffman@gmail.com   \n",
      "5  CA-2011-115812   6/9/2011   6/14/2011  BrosinaHoffman@gmail.com   \n",
      "6  CA-2011-115812   6/9/2011   6/14/2011  BrosinaHoffman@gmail.com   \n",
      "7  CA-2011-115812   6/9/2011   6/14/2011  BrosinaHoffman@gmail.com   \n",
      "8  CA-2013-161389  12/6/2013  12/11/2013     IreneMaddox@gmail.com   \n",
      "9  CA-2011-167164  5/13/2011   5/15/2011  AlejandroGrove@gmail.com   \n",
      "\n",
      "                              Geography     Category  \\\n",
      "0  United States,Los Angeles,California       Labels   \n",
      "1  United States,Los Angeles,California  Furnishings   \n",
      "2  United States,Los Angeles,California          Art   \n",
      "3  United States,Los Angeles,California       Phones   \n",
      "4  United States,Los Angeles,California      Binders   \n",
      "5  United States,Los Angeles,California   Appliances   \n",
      "6  United States,Los Angeles,California       Tables   \n",
      "7  United States,Los Angeles,California       Phones   \n",
      "8      United States,Seattle,Washington      Binders   \n",
      "9        United States,West Jordan,Utah      Storage   \n",
      "\n",
      "                                        Product Name    Sales  Quantity  \\\n",
      "0  Self-Adhesive Address Labels for Typewriters b...    14.62       2.0   \n",
      "1  Eldon Expressions Wood and Plastic Desk Access...    48.86       7.0   \n",
      "2                                         Newell 322     7.28       4.0   \n",
      "3                     Mitel 5320 IP Phone VoIP phone   907.15       4.0   \n",
      "4  DXL Angle-View Binders with Locking Rings by S...    18.50       3.0   \n",
      "5                   Belkin F5C206VTEL 6 Outlet Surge   114.90       5.0   \n",
      "6           Chromcraft Rectangular Conference Tables  1706.18       9.0   \n",
      "7    Konftel 250 ConferenceÂ phoneÂ - Charcoal black   911.42       4.0   \n",
      "8        Fellowes PB200 Plastic Comb Binding Machine   407.98       3.0   \n",
      "9                         Fellowes Super Stor/Drawer    55.50       2.0   \n",
      "\n",
      "   Profit  \n",
      "0    6.87  \n",
      "1   14.17  \n",
      "2    1.97  \n",
      "3   90.72  \n",
      "4    5.78  \n",
      "5   34.47  \n",
      "6   85.31  \n",
      "7   68.36  \n",
      "8  132.59  \n",
      "9    9.99  \n"
     ]
    }
   ],
   "source": [
    "#Ver las primeras diez filas del dataset\n",
    "print(df_transform.head(10))"
   ]
  },
  {
   "cell_type": "code",
   "execution_count": 4,
   "metadata": {},
   "outputs": [
    {
     "data": {
      "text/plain": [
       "np.int64(0)"
      ]
     },
     "execution_count": 4,
     "metadata": {},
     "output_type": "execute_result"
    }
   ],
   "source": [
    "#Verificar si hay duplicados\n",
    "df_transform.duplicated().sum()"
   ]
  },
  {
   "cell_type": "code",
   "execution_count": 5,
   "metadata": {},
   "outputs": [
    {
     "name": "stdout",
     "output_type": "stream",
     "text": [
      "<class 'pandas.core.frame.DataFrame'>\n",
      "RangeIndex: 3203 entries, 0 to 3202\n",
      "Data columns (total 10 columns):\n",
      " #   Column        Non-Null Count  Dtype  \n",
      "---  ------        --------------  -----  \n",
      " 0   Order ID      3203 non-null   object \n",
      " 1   Order Date    3203 non-null   object \n",
      " 2   Ship Date     3203 non-null   object \n",
      " 3   EmailID       3203 non-null   object \n",
      " 4   Geography     3203 non-null   object \n",
      " 5   Category      3203 non-null   object \n",
      " 6   Product Name  3203 non-null   object \n",
      " 7   Sales         3203 non-null   float64\n",
      " 8   Quantity      3203 non-null   float64\n",
      " 9   Profit        3203 non-null   float64\n",
      "dtypes: float64(3), object(7)\n",
      "memory usage: 250.4+ KB\n",
      "None\n"
     ]
    }
   ],
   "source": [
    "#Ver el detalle de cada columna\n",
    "print(df_transform.info())"
   ]
  },
  {
   "cell_type": "code",
   "execution_count": 6,
   "metadata": {},
   "outputs": [
    {
     "data": {
      "text/plain": [
       "(3203, 10)"
      ]
     },
     "execution_count": 6,
     "metadata": {},
     "output_type": "execute_result"
    }
   ],
   "source": [
    "#Ver cantidad de columnas y filas\n",
    "df_transform.shape"
   ]
  },
  {
   "cell_type": "code",
   "execution_count": 7,
   "metadata": {},
   "outputs": [
    {
     "name": "stdout",
     "output_type": "stream",
     "text": [
      "Cantidad de categorías únicas: 17\n",
      "Cantidad de productos únicos: 1494\n"
     ]
    }
   ],
   "source": [
    "# Cantidad de categorías únicas\n",
    "unique_categories = df_transform['Category'].nunique()\n",
    "print(f'Cantidad de categorías únicas: {unique_categories}')\n",
    "\n",
    "# Cantidad de productos únicos\n",
    "unique_products = df_transform['Product Name'].nunique()\n",
    "print(f'Cantidad de productos únicos: {unique_products}')"
   ]
  },
  {
   "cell_type": "code",
   "execution_count": 8,
   "metadata": {},
   "outputs": [
    {
     "name": "stdout",
     "output_type": "stream",
     "text": [
      "Categorías únicas:\n",
      "['Labels' 'Furnishings' 'Art' 'Phones' 'Binders' 'Appliances' 'Tables'\n",
      " 'Storage' 'Accessories' 'Paper' 'Chairs' 'Fasteners' 'Supplies'\n",
      " 'Envelopes' 'Copiers' 'Bookcases' 'Machines']\n"
     ]
    }
   ],
   "source": [
    "# Lista de categorías únicas\n",
    "print('Categorías únicas:')\n",
    "print(df_transform['Category'].unique())"
   ]
  },
  {
   "cell_type": "markdown",
   "metadata": {},
   "source": [
    "#Transformación y creación de columnas"
   ]
  },
  {
   "cell_type": "code",
   "execution_count": 9,
   "metadata": {},
   "outputs": [],
   "source": [
    "#Convertir columndas Orde date y Ship Date en datetime\n",
    "df_transform['Order Date'] = pd.to_datetime(df['Order Date'])\n",
    "df_transform['Ship Date'] = pd.to_datetime(df['Ship Date'])"
   ]
  },
  {
   "cell_type": "code",
   "execution_count": 10,
   "metadata": {},
   "outputs": [],
   "source": [
    "#Crear columna Shippin delay para saber cuanto se tarda el envio\n",
    "df_transform['Shipping Delay'] = (df_transform['Ship Date'] - df_transform['Order Date']).dt.days"
   ]
  },
  {
   "cell_type": "code",
   "execution_count": 11,
   "metadata": {},
   "outputs": [
    {
     "data": {
      "text/plain": [
       "count    3203.000000\n",
       "mean        3.930066\n",
       "std         1.806914\n",
       "min         0.000000\n",
       "25%         3.000000\n",
       "50%         4.000000\n",
       "75%         5.000000\n",
       "max         7.000000\n",
       "Name: Shipping Delay, dtype: float64"
      ]
     },
     "execution_count": 11,
     "metadata": {},
     "output_type": "execute_result"
    }
   ],
   "source": [
    "#Ver estadisticas descriptivas para mi nueva columna\n",
    "df_transform['Shipping Delay'].describe()"
   ]
  },
  {
   "cell_type": "code",
   "execution_count": 12,
   "metadata": {},
   "outputs": [
    {
     "data": {
      "text/plain": [
       "<Axes: xlabel='Shipping Delay', ylabel='Count'>"
      ]
     },
     "execution_count": 12,
     "metadata": {},
     "output_type": "execute_result"
    },
    {
     "data": {
      "image/png": "[encoded data removed]",
      "text/plain": [
       "<Figure size 640x480 with 1 Axes>"
      ]
     },
     "metadata": {},
     "output_type": "display_data"
    }
   ],
   "source": [
    "sns.histplot(df_transform['Shipping Delay'], bins=20)"
   ]
  },
  {
   "cell_type": "code",
   "execution_count": 13,
   "metadata": {},
   "outputs": [],
   "source": [
    "#Crear columndas de año, mes y ańo y mes\n",
    "df_transform['Year'] = df_transform['Order Date'].dt.year\n",
    "df_transform['Month'] = df_transform['Order Date'].dt.month\n",
    "df_transform['YearMonth'] = df_transform['Order Date'].dt.to_period('M')\n",
    "df_transform['Order_Quarter'] = df_transform['Order Date'].dt.to_period('Q')"
   ]
  },
  {
   "cell_type": "code",
   "execution_count": 14,
   "metadata": {},
   "outputs": [],
   "source": [
    "#Crear columndas Country, City y State a partir de Geography\n",
    "df_transform[['Country', 'City', 'State']] = df_transform['Geography'].str.split(',', expand=True)"
   ]
  },
  {
   "cell_type": "code",
   "execution_count": 46,
   "metadata": {},
   "outputs": [
    {
     "data": {
      "text/html": [
       "<div>\n",
       "<style scoped>\n",
       "    .dataframe tbody tr th:only-of-type {\n",
       "        vertical-align: middle;\n",
       "    }\n",
       "\n",
       "    .dataframe tbody tr th {\n",
       "        vertical-align: top;\n",
       "    }\n",
       "\n",
       "    .dataframe thead th {\n",
       "        text-align: right;\n",
       "    }\n",
       "</style>\n",
       "<table border=\"1\" class=\"dataframe\">\n",
       "  <thead>\n",
       "    <tr style=\"text-align: right;\">\n",
       "      <th></th>\n",
       "      <th>Order ID</th>\n",
       "      <th>Order Date</th>\n",
       "      <th>Ship Date</th>\n",
       "      <th>EmailID</th>\n",
       "      <th>Geography</th>\n",
       "      <th>Category</th>\n",
       "      <th>Product Name</th>\n",
       "      <th>Sales</th>\n",
       "      <th>Quantity</th>\n",
       "      <th>Profit</th>\n",
       "      <th>...</th>\n",
       "      <th>Order_Quarter</th>\n",
       "      <th>Country</th>\n",
       "      <th>City</th>\n",
       "      <th>State</th>\n",
       "      <th>Profit Margin</th>\n",
       "      <th>Loss Flag</th>\n",
       "      <th>Sales_Level</th>\n",
       "      <th>Profit_Level</th>\n",
       "      <th>Quantity_Level</th>\n",
       "      <th>Shipping_Speed</th>\n",
       "    </tr>\n",
       "  </thead>\n",
       "  <tbody>\n",
       "  </tbody>\n",
       "</table>\n",
       "<p>0 rows × 24 columns</p>\n",
       "</div>"
      ],
      "text/plain": [
       "Empty DataFrame\n",
       "Columns: [Order ID, Order Date, Ship Date, EmailID, Geography, Category, Product Name, Sales, Quantity, Profit, Shipping Delay, Year, Month, YearMonth, Order_Quarter, Country, City, State, Profit Margin, Loss Flag, Sales_Level, Profit_Level, Quantity_Level, Shipping_Speed]\n",
       "Index: []\n",
       "\n",
       "[0 rows x 24 columns]"
      ]
     },
     "execution_count": 46,
     "metadata": {},
     "output_type": "execute_result"
    }
   ],
   "source": [
    "df_transform[df_transform['Sales'] == 0]"
   ]
  },
  {
   "cell_type": "code",
   "execution_count": 47,
   "metadata": {},
   "outputs": [],
   "source": [
    "#Crear columna Profir MArgin\n",
    "df_transform['Profit Margin'] = df_transform['Profit'] / df_transform['Sales']"
   ]
  },
  {
   "cell_type": "code",
   "execution_count": 49,
   "metadata": {},
   "outputs": [
    {
     "data": {
      "text/html": [
       "<div>\n",
       "<style scoped>\n",
       "    .dataframe tbody tr th:only-of-type {\n",
       "        vertical-align: middle;\n",
       "    }\n",
       "\n",
       "    .dataframe tbody tr th {\n",
       "        vertical-align: top;\n",
       "    }\n",
       "\n",
       "    .dataframe thead th {\n",
       "        text-align: right;\n",
       "    }\n",
       "</style>\n",
       "<table border=\"1\" class=\"dataframe\">\n",
       "  <thead>\n",
       "    <tr style=\"text-align: right;\">\n",
       "      <th></th>\n",
       "      <th>Order ID</th>\n",
       "      <th>Order Date</th>\n",
       "      <th>Ship Date</th>\n",
       "      <th>EmailID</th>\n",
       "      <th>Geography</th>\n",
       "      <th>Category</th>\n",
       "      <th>Product Name</th>\n",
       "      <th>Sales</th>\n",
       "      <th>Quantity</th>\n",
       "      <th>Profit</th>\n",
       "      <th>...</th>\n",
       "      <th>Country</th>\n",
       "      <th>City</th>\n",
       "      <th>State</th>\n",
       "      <th>Profit Margin</th>\n",
       "      <th>Loss Flag</th>\n",
       "      <th>Sales_Level</th>\n",
       "      <th>Profit_Level</th>\n",
       "      <th>Quantity_Level</th>\n",
       "      <th>Shipping_Speed</th>\n",
       "      <th>Negative Profit</th>\n",
       "    </tr>\n",
       "  </thead>\n",
       "  <tbody>\n",
       "    <tr>\n",
       "      <th>969</th>\n",
       "      <td>CA-2014-134845</td>\n",
       "      <td>2014-04-18</td>\n",
       "      <td>2014-04-24</td>\n",
       "      <td>SharelleRoach@gmail.com</td>\n",
       "      <td>United States,Louisville,Colorado</td>\n",
       "      <td>Machines</td>\n",
       "      <td>Lexmark MX611dhe Monochrome Laser Printer</td>\n",
       "      <td>2549.99</td>\n",
       "      <td>5.0</td>\n",
       "      <td>-3399.98</td>\n",
       "      <td>...</td>\n",
       "      <td>United States</td>\n",
       "      <td>Louisville</td>\n",
       "      <td>Colorado</td>\n",
       "      <td>-1.333331</td>\n",
       "      <td>True</td>\n",
       "      <td>Alta</td>\n",
       "      <td>Pérdida</td>\n",
       "      <td>Moderada</td>\n",
       "      <td>Lento</td>\n",
       "      <td>True</td>\n",
       "    </tr>\n",
       "    <tr>\n",
       "      <th>2487</th>\n",
       "      <td>US-2013-157490</td>\n",
       "      <td>2013-10-07</td>\n",
       "      <td>2013-10-08</td>\n",
       "      <td>LaurelBeltran@gmail.com</td>\n",
       "      <td>United States,Pueblo,Colorado</td>\n",
       "      <td>Machines</td>\n",
       "      <td>Zebra GK420t Direct Thermal/Thermal Transfer P...</td>\n",
       "      <td>703.71</td>\n",
       "      <td>6.0</td>\n",
       "      <td>-938.28</td>\n",
       "      <td>...</td>\n",
       "      <td>United States</td>\n",
       "      <td>Pueblo</td>\n",
       "      <td>Colorado</td>\n",
       "      <td>-1.333333</td>\n",
       "      <td>True</td>\n",
       "      <td>Alta</td>\n",
       "      <td>Pérdida</td>\n",
       "      <td>Alta</td>\n",
       "      <td>Muy Rápido</td>\n",
       "      <td>True</td>\n",
       "    </tr>\n",
       "    <tr>\n",
       "      <th>134</th>\n",
       "      <td>CA-2013-109869</td>\n",
       "      <td>2013-04-23</td>\n",
       "      <td>2013-04-30</td>\n",
       "      <td>TanjaNorvell@gmail.com</td>\n",
       "      <td>United States,Phoenix,Arizona</td>\n",
       "      <td>Tables</td>\n",
       "      <td>Bush Advantage Collection Racetrack Conference...</td>\n",
       "      <td>1272.63</td>\n",
       "      <td>6.0</td>\n",
       "      <td>-814.48</td>\n",
       "      <td>...</td>\n",
       "      <td>United States</td>\n",
       "      <td>Phoenix</td>\n",
       "      <td>Arizona</td>\n",
       "      <td>-0.639997</td>\n",
       "      <td>True</td>\n",
       "      <td>Alta</td>\n",
       "      <td>Pérdida</td>\n",
       "      <td>Alta</td>\n",
       "      <td>Muy Lento</td>\n",
       "      <td>True</td>\n",
       "    </tr>\n",
       "    <tr>\n",
       "      <th>413</th>\n",
       "      <td>US-2012-103471</td>\n",
       "      <td>2012-12-24</td>\n",
       "      <td>2012-12-28</td>\n",
       "      <td>JimRadford@gmail.com</td>\n",
       "      <td>United States,Colorado Springs,Colorado</td>\n",
       "      <td>Bookcases</td>\n",
       "      <td>Atlantic Metals Mobile 4-Shelf Bookcases, Cust...</td>\n",
       "      <td>590.06</td>\n",
       "      <td>7.0</td>\n",
       "      <td>-786.74</td>\n",
       "      <td>...</td>\n",
       "      <td>United States</td>\n",
       "      <td>Colorado Springs</td>\n",
       "      <td>Colorado</td>\n",
       "      <td>-1.333322</td>\n",
       "      <td>True</td>\n",
       "      <td>Alta</td>\n",
       "      <td>Pérdida</td>\n",
       "      <td>Alta</td>\n",
       "      <td>Normal</td>\n",
       "      <td>True</td>\n",
       "    </tr>\n",
       "    <tr>\n",
       "      <th>2960</th>\n",
       "      <td>CA-2011-148383</td>\n",
       "      <td>2011-12-27</td>\n",
       "      <td>2011-12-31</td>\n",
       "      <td>ResiPÃ¶lking@gmail.com</td>\n",
       "      <td>United States,Phoenix,Arizona</td>\n",
       "      <td>Binders</td>\n",
       "      <td>GBC DocuBind 300 Electric Binding Machine</td>\n",
       "      <td>946.76</td>\n",
       "      <td>6.0</td>\n",
       "      <td>-694.29</td>\n",
       "      <td>...</td>\n",
       "      <td>United States</td>\n",
       "      <td>Phoenix</td>\n",
       "      <td>Arizona</td>\n",
       "      <td>-0.733333</td>\n",
       "      <td>True</td>\n",
       "      <td>Alta</td>\n",
       "      <td>Pérdida</td>\n",
       "      <td>Alta</td>\n",
       "      <td>Normal</td>\n",
       "      <td>True</td>\n",
       "    </tr>\n",
       "    <tr>\n",
       "      <th>...</th>\n",
       "      <td>...</td>\n",
       "      <td>...</td>\n",
       "      <td>...</td>\n",
       "      <td>...</td>\n",
       "      <td>...</td>\n",
       "      <td>...</td>\n",
       "      <td>...</td>\n",
       "      <td>...</td>\n",
       "      <td>...</td>\n",
       "      <td>...</td>\n",
       "      <td>...</td>\n",
       "      <td>...</td>\n",
       "      <td>...</td>\n",
       "      <td>...</td>\n",
       "      <td>...</td>\n",
       "      <td>...</td>\n",
       "      <td>...</td>\n",
       "      <td>...</td>\n",
       "      <td>...</td>\n",
       "      <td>...</td>\n",
       "      <td>...</td>\n",
       "    </tr>\n",
       "    <tr>\n",
       "      <th>295</th>\n",
       "      <td>US-2014-100209</td>\n",
       "      <td>2014-07-10</td>\n",
       "      <td>2014-07-16</td>\n",
       "      <td>TamaraDahlen@gmail.com</td>\n",
       "      <td>United States,Portland,Oregon</td>\n",
       "      <td>Binders</td>\n",
       "      <td>Wilson Jones Easy Flow II Sheet Lifters</td>\n",
       "      <td>1.08</td>\n",
       "      <td>2.0</td>\n",
       "      <td>-0.79</td>\n",
       "      <td>...</td>\n",
       "      <td>United States</td>\n",
       "      <td>Portland</td>\n",
       "      <td>Oregon</td>\n",
       "      <td>-0.731481</td>\n",
       "      <td>True</td>\n",
       "      <td>Baja</td>\n",
       "      <td>Pérdida</td>\n",
       "      <td>Poca</td>\n",
       "      <td>Lento</td>\n",
       "      <td>True</td>\n",
       "    </tr>\n",
       "    <tr>\n",
       "      <th>1576</th>\n",
       "      <td>CA-2012-106978</td>\n",
       "      <td>2012-09-28</td>\n",
       "      <td>2012-10-04</td>\n",
       "      <td>ZuschussCarroll@gmail.com</td>\n",
       "      <td>United States,Aurora,Colorado</td>\n",
       "      <td>Binders</td>\n",
       "      <td>Wilson Jones Easy Flow II Sheet Lifters</td>\n",
       "      <td>1.08</td>\n",
       "      <td>2.0</td>\n",
       "      <td>-0.79</td>\n",
       "      <td>...</td>\n",
       "      <td>United States</td>\n",
       "      <td>Aurora</td>\n",
       "      <td>Colorado</td>\n",
       "      <td>-0.731481</td>\n",
       "      <td>True</td>\n",
       "      <td>Baja</td>\n",
       "      <td>Pérdida</td>\n",
       "      <td>Poca</td>\n",
       "      <td>Lento</td>\n",
       "      <td>True</td>\n",
       "    </tr>\n",
       "    <tr>\n",
       "      <th>1638</th>\n",
       "      <td>CA-2014-156720</td>\n",
       "      <td>2014-12-31</td>\n",
       "      <td>2015-01-04</td>\n",
       "      <td>JillMatthias@gmail.com</td>\n",
       "      <td>United States,Loveland,Colorado</td>\n",
       "      <td>Fasteners</td>\n",
       "      <td>Bagged Rubber Bands</td>\n",
       "      <td>3.02</td>\n",
       "      <td>3.0</td>\n",
       "      <td>-0.60</td>\n",
       "      <td>...</td>\n",
       "      <td>United States</td>\n",
       "      <td>Loveland</td>\n",
       "      <td>Colorado</td>\n",
       "      <td>-0.198675</td>\n",
       "      <td>True</td>\n",
       "      <td>Baja</td>\n",
       "      <td>Pérdida</td>\n",
       "      <td>Moderada</td>\n",
       "      <td>Normal</td>\n",
       "      <td>True</td>\n",
       "    </tr>\n",
       "    <tr>\n",
       "      <th>2406</th>\n",
       "      <td>CA-2014-121125</td>\n",
       "      <td>2014-05-31</td>\n",
       "      <td>2014-06-04</td>\n",
       "      <td>MichaelGranlund@gmail.com</td>\n",
       "      <td>United States,Tigard,Oregon</td>\n",
       "      <td>Furnishings</td>\n",
       "      <td>Tensor Brushed Steel Torchiere Floor Lamp</td>\n",
       "      <td>13.59</td>\n",
       "      <td>1.0</td>\n",
       "      <td>-0.34</td>\n",
       "      <td>...</td>\n",
       "      <td>United States</td>\n",
       "      <td>Tigard</td>\n",
       "      <td>Oregon</td>\n",
       "      <td>-0.025018</td>\n",
       "      <td>True</td>\n",
       "      <td>Baja</td>\n",
       "      <td>Pérdida</td>\n",
       "      <td>Poca</td>\n",
       "      <td>Normal</td>\n",
       "      <td>True</td>\n",
       "    </tr>\n",
       "    <tr>\n",
       "      <th>1044</th>\n",
       "      <td>CA-2011-108189</td>\n",
       "      <td>2011-10-02</td>\n",
       "      <td>2011-10-05</td>\n",
       "      <td>ErinSmith@gmail.com</td>\n",
       "      <td>United States,Tempe,Arizona</td>\n",
       "      <td>Accessories</td>\n",
       "      <td>Kingston Digital DataTraveler 16GB USB 2.0</td>\n",
       "      <td>7.16</td>\n",
       "      <td>1.0</td>\n",
       "      <td>-0.09</td>\n",
       "      <td>...</td>\n",
       "      <td>United States</td>\n",
       "      <td>Tempe</td>\n",
       "      <td>Arizona</td>\n",
       "      <td>-0.012570</td>\n",
       "      <td>True</td>\n",
       "      <td>Baja</td>\n",
       "      <td>Pérdida</td>\n",
       "      <td>Poca</td>\n",
       "      <td>Normal</td>\n",
       "      <td>True</td>\n",
       "    </tr>\n",
       "  </tbody>\n",
       "</table>\n",
       "<p>318 rows × 25 columns</p>\n",
       "</div>"
      ],
      "text/plain": [
       "            Order ID Order Date  Ship Date                    EmailID  \\\n",
       "969   CA-2014-134845 2014-04-18 2014-04-24    SharelleRoach@gmail.com   \n",
       "2487  US-2013-157490 2013-10-07 2013-10-08    LaurelBeltran@gmail.com   \n",
       "134   CA-2013-109869 2013-04-23 2013-04-30     TanjaNorvell@gmail.com   \n",
       "413   US-2012-103471 2012-12-24 2012-12-28       JimRadford@gmail.com   \n",
       "2960  CA-2011-148383 2011-12-27 2011-12-31     ResiPÃ¶lking@gmail.com   \n",
       "...              ...        ...        ...                        ...   \n",
       "295   US-2014-100209 2014-07-10 2014-07-16     TamaraDahlen@gmail.com   \n",
       "1576  CA-2012-106978 2012-09-28 2012-10-04  ZuschussCarroll@gmail.com   \n",
       "1638  CA-2014-156720 2014-12-31 2015-01-04     JillMatthias@gmail.com   \n",
       "2406  CA-2014-121125 2014-05-31 2014-06-04  MichaelGranlund@gmail.com   \n",
       "1044  CA-2011-108189 2011-10-02 2011-10-05        ErinSmith@gmail.com   \n",
       "\n",
       "                                    Geography     Category  \\\n",
       "969         United States,Louisville,Colorado     Machines   \n",
       "2487            United States,Pueblo,Colorado     Machines   \n",
       "134             United States,Phoenix,Arizona       Tables   \n",
       "413   United States,Colorado Springs,Colorado    Bookcases   \n",
       "2960            United States,Phoenix,Arizona      Binders   \n",
       "...                                       ...          ...   \n",
       "295             United States,Portland,Oregon      Binders   \n",
       "1576            United States,Aurora,Colorado      Binders   \n",
       "1638          United States,Loveland,Colorado    Fasteners   \n",
       "2406              United States,Tigard,Oregon  Furnishings   \n",
       "1044              United States,Tempe,Arizona  Accessories   \n",
       "\n",
       "                                           Product Name    Sales  Quantity  \\\n",
       "969           Lexmark MX611dhe Monochrome Laser Printer  2549.99       5.0   \n",
       "2487  Zebra GK420t Direct Thermal/Thermal Transfer P...   703.71       6.0   \n",
       "134   Bush Advantage Collection Racetrack Conference...  1272.63       6.0   \n",
       "413   Atlantic Metals Mobile 4-Shelf Bookcases, Cust...   590.06       7.0   \n",
       "2960          GBC DocuBind 300 Electric Binding Machine   946.76       6.0   \n",
       "...                                                 ...      ...       ...   \n",
       "295             Wilson Jones Easy Flow II Sheet Lifters     1.08       2.0   \n",
       "1576            Wilson Jones Easy Flow II Sheet Lifters     1.08       2.0   \n",
       "1638                                Bagged Rubber Bands     3.02       3.0   \n",
       "2406          Tensor Brushed Steel Torchiere Floor Lamp    13.59       1.0   \n",
       "1044         Kingston Digital DataTraveler 16GB USB 2.0     7.16       1.0   \n",
       "\n",
       "       Profit  ...        Country              City     State Profit Margin  \\\n",
       "969  -3399.98  ...  United States        Louisville  Colorado     -1.333331   \n",
       "2487  -938.28  ...  United States            Pueblo  Colorado     -1.333333   \n",
       "134   -814.48  ...  United States           Phoenix   Arizona     -0.639997   \n",
       "413   -786.74  ...  United States  Colorado Springs  Colorado     -1.333322   \n",
       "2960  -694.29  ...  United States           Phoenix   Arizona     -0.733333   \n",
       "...       ...  ...            ...               ...       ...           ...   \n",
       "295     -0.79  ...  United States          Portland    Oregon     -0.731481   \n",
       "1576    -0.79  ...  United States            Aurora  Colorado     -0.731481   \n",
       "1638    -0.60  ...  United States          Loveland  Colorado     -0.198675   \n",
       "2406    -0.34  ...  United States            Tigard    Oregon     -0.025018   \n",
       "1044    -0.09  ...  United States             Tempe   Arizona     -0.012570   \n",
       "\n",
       "     Loss Flag Sales_Level Profit_Level Quantity_Level  Shipping_Speed  \\\n",
       "969       True        Alta      Pérdida       Moderada           Lento   \n",
       "2487      True        Alta      Pérdida           Alta      Muy Rápido   \n",
       "134       True        Alta      Pérdida           Alta       Muy Lento   \n",
       "413       True        Alta      Pérdida           Alta          Normal   \n",
       "2960      True        Alta      Pérdida           Alta          Normal   \n",
       "...        ...         ...          ...            ...             ...   \n",
       "295       True        Baja      Pérdida           Poca           Lento   \n",
       "1576      True        Baja      Pérdida           Poca           Lento   \n",
       "1638      True        Baja      Pérdida       Moderada          Normal   \n",
       "2406      True        Baja      Pérdida           Poca          Normal   \n",
       "1044      True        Baja      Pérdida           Poca          Normal   \n",
       "\n",
       "      Negative Profit  \n",
       "969              True  \n",
       "2487             True  \n",
       "134              True  \n",
       "413              True  \n",
       "2960             True  \n",
       "...               ...  \n",
       "295              True  \n",
       "1576             True  \n",
       "1638             True  \n",
       "2406             True  \n",
       "1044             True  \n",
       "\n",
       "[318 rows x 25 columns]"
      ]
     },
     "execution_count": 49,
     "metadata": {},
     "output_type": "execute_result"
    }
   ],
   "source": [
    "df_transform[df_transform['Profit'] < 0].sort_values(by='Profit')"
   ]
  },
  {
   "cell_type": "code",
   "execution_count": 50,
   "metadata": {},
   "outputs": [],
   "source": [
    "df_transform['Transaction Type'] = df_transform['Profit'].apply(\n",
    "    lambda x: 'Return' if x < 0 else 'Sale'\n",
    ")"
   ]
  },
  {
   "cell_type": "code",
   "execution_count": 51,
   "metadata": {},
   "outputs": [],
   "source": [
    "df_transform['Is Return'] = df_transform['Profit'] < 0"
   ]
  },
  {
   "cell_type": "code",
   "execution_count": 52,
   "metadata": {},
   "outputs": [
    {
     "data": {
      "image/png": "[encoded data removed]",
      "text/plain": [
       "<Figure size 640x480 with 1 Axes>"
      ]
     },
     "metadata": {},
     "output_type": "display_data"
    }
   ],
   "source": [
    "df_transform['Transaction Type'].value_counts().plot(kind='bar', color=['salmon', 'lightgreen'])\n",
    "plt.title('Cantidad de transacciones por tipo')\n",
    "plt.xlabel('Tipo de transacción')\n",
    "plt.ylabel('Cantidad')\n",
    "plt.xticks(rotation=0)\n",
    "plt.show()"
   ]
  },
  {
   "cell_type": "code",
   "execution_count": 53,
   "metadata": {},
   "outputs": [
    {
     "name": "stdout",
     "output_type": "stream",
     "text": [
      "📉 Porcentaje de devoluciones: 9.93%\n"
     ]
    }
   ],
   "source": [
    "return_ratio = df_transform['Is Return'].mean()\n",
    "print(f'📉 Porcentaje de devoluciones: {return_ratio:.2%}')"
   ]
  },
  {
   "cell_type": "code",
   "execution_count": 54,
   "metadata": {},
   "outputs": [
    {
     "data": {
      "text/plain": [
       "Transaction Type\n",
       "Return   -71.450094\n",
       "Sale      45.455778\n",
       "Name: Profit, dtype: float64"
      ]
     },
     "execution_count": 54,
     "metadata": {},
     "output_type": "execute_result"
    }
   ],
   "source": [
    "df_transform.groupby('Transaction Type')['Profit'].mean()"
   ]
  },
  {
   "cell_type": "markdown",
   "metadata": {},
   "source": [
    "En este dataset, las transacciones con Profit negativo corresponden consistentemente a devoluciones. Por lo tanto, se define una transacción como devolución si Profit < 0, lo cual es coherente tanto con los datos como con la lógica comercial."
   ]
  },
  {
   "cell_type": "code",
   "execution_count": 35,
   "metadata": {},
   "outputs": [
    {
     "data": {
      "text/html": [
       "<div>\n",
       "<style scoped>\n",
       "    .dataframe tbody tr th:only-of-type {\n",
       "        vertical-align: middle;\n",
       "    }\n",
       "\n",
       "    .dataframe tbody tr th {\n",
       "        vertical-align: top;\n",
       "    }\n",
       "\n",
       "    .dataframe thead th {\n",
       "        text-align: right;\n",
       "    }\n",
       "</style>\n",
       "<table border=\"1\" class=\"dataframe\">\n",
       "  <thead>\n",
       "    <tr style=\"text-align: right;\">\n",
       "      <th></th>\n",
       "      <th>Sales</th>\n",
       "      <th>Profit</th>\n",
       "      <th>Quantity</th>\n",
       "    </tr>\n",
       "  </thead>\n",
       "  <tbody>\n",
       "    <tr>\n",
       "      <th>count</th>\n",
       "      <td>3203.000000</td>\n",
       "      <td>3203.000000</td>\n",
       "      <td>3203.000000</td>\n",
       "    </tr>\n",
       "    <tr>\n",
       "      <th>mean</th>\n",
       "      <td>226.493266</td>\n",
       "      <td>33.849138</td>\n",
       "      <td>3.828910</td>\n",
       "    </tr>\n",
       "    <tr>\n",
       "      <th>std</th>\n",
       "      <td>524.876911</td>\n",
       "      <td>174.109155</td>\n",
       "      <td>2.260947</td>\n",
       "    </tr>\n",
       "    <tr>\n",
       "      <th>min</th>\n",
       "      <td>0.990000</td>\n",
       "      <td>-3399.980000</td>\n",
       "      <td>1.000000</td>\n",
       "    </tr>\n",
       "    <tr>\n",
       "      <th>25%</th>\n",
       "      <td>19.440000</td>\n",
       "      <td>3.850000</td>\n",
       "      <td>2.000000</td>\n",
       "    </tr>\n",
       "    <tr>\n",
       "      <th>50%</th>\n",
       "      <td>60.840000</td>\n",
       "      <td>11.170000</td>\n",
       "      <td>3.000000</td>\n",
       "    </tr>\n",
       "    <tr>\n",
       "      <th>75%</th>\n",
       "      <td>215.810000</td>\n",
       "      <td>33.000000</td>\n",
       "      <td>5.000000</td>\n",
       "    </tr>\n",
       "    <tr>\n",
       "      <th>max</th>\n",
       "      <td>13999.960000</td>\n",
       "      <td>6719.980000</td>\n",
       "      <td>14.000000</td>\n",
       "    </tr>\n",
       "  </tbody>\n",
       "</table>\n",
       "</div>"
      ],
      "text/plain": [
       "              Sales       Profit     Quantity\n",
       "count   3203.000000  3203.000000  3203.000000\n",
       "mean     226.493266    33.849138     3.828910\n",
       "std      524.876911   174.109155     2.260947\n",
       "min        0.990000 -3399.980000     1.000000\n",
       "25%       19.440000     3.850000     2.000000\n",
       "50%       60.840000    11.170000     3.000000\n",
       "75%      215.810000    33.000000     5.000000\n",
       "max    13999.960000  6719.980000    14.000000"
      ]
     },
     "execution_count": 35,
     "metadata": {},
     "output_type": "execute_result"
    }
   ],
   "source": [
    "# Variables numéricas\n",
    "num_cols = ['Sales', 'Profit', 'Quantity']\n",
    "df_transform[num_cols].describe()"
   ]
  },
  {
   "cell_type": "code",
   "execution_count": 36,
   "metadata": {},
   "outputs": [
    {
     "data": {
      "image/png": "[encoded data removed]",
      "text/plain": [
       "<Figure size 800x600 with 2 Axes>"
      ]
     },
     "metadata": {},
     "output_type": "display_data"
    }
   ],
   "source": [
    "# Calcular la matriz de correlación\n",
    "corr = df_transform[num_cols].corr()\n",
    "\n",
    "# Visualizar como mapa de calor\n",
    "plt.figure(figsize=(8,6))\n",
    "sns.heatmap(corr, annot=True, cmap='coolwarm', fmt=\".2f\", linewidths=0.5)\n",
    "plt.title(\"Matriz de correlación entre variables numéricas\")\n",
    "plt.show()"
   ]
  },
  {
   "cell_type": "code",
   "execution_count": 37,
   "metadata": {},
   "outputs": [
    {
     "name": "stdout",
     "output_type": "stream",
     "text": [
      "\n",
      "Percentiles de Sales:\n",
      "  0% (mínimo): 0.99\n",
      " 25% (Q1)   : 19.44\n",
      " 50% (mediana): 60.84\n",
      " 75% (Q3)   : 215.81\n",
      "100% (máximo): 13999.96\n",
      "\n",
      "Percentiles de Profit:\n",
      "  0% (mínimo): -3399.98\n",
      " 25% (Q1)   : 3.85\n",
      " 50% (mediana): 11.17\n",
      " 75% (Q3)   : 33.00\n",
      "100% (máximo): 6719.98\n",
      "\n",
      "Percentiles de Quantity:\n",
      "  0% (mínimo): 1.00\n",
      " 25% (Q1)   : 2.00\n",
      " 50% (mediana): 3.00\n",
      " 75% (Q3)   : 5.00\n",
      "100% (máximo): 14.00\n"
     ]
    }
   ],
   "source": [
    "# Calcular y mostrar los percentiles para cada columna\n",
    "for col in num_cols:\n",
    "    print(f'\\nPercentiles de {col}:')\n",
    "    print(f\"  0% (mínimo): {df[col].quantile(0):.2f}\")\n",
    "    print(f\" 25% (Q1)   : {df[col].quantile(0.25):.2f}\")\n",
    "    print(f\" 50% (mediana): {df[col].quantile(0.50):.2f}\")\n",
    "    print(f\" 75% (Q3)   : {df[col].quantile(0.75):.2f}\")\n",
    "    print(f\"100% (máximo): {df[col].quantile(1):.2f}\")"
   ]
  },
  {
   "cell_type": "code",
   "execution_count": 38,
   "metadata": {},
   "outputs": [
    {
     "data": {
      "text/plain": [
       "array([[<Axes: title={'center': 'Sales'}>,\n",
       "        <Axes: title={'center': 'Profit'}>],\n",
       "       [<Axes: title={'center': 'Quantity'}>, <Axes: >]], dtype=object)"
      ]
     },
     "execution_count": 38,
     "metadata": {},
     "output_type": "execute_result"
    },
    {
     "data": {
      "image/png": "[encoded data removed]",
      "text/plain": [
       "<Figure size 1200x600 with 4 Axes>"
      ]
     },
     "metadata": {},
     "output_type": "display_data"
    }
   ],
   "source": [
    "# Distribución de las variables\n",
    "df_transform[num_cols].hist(bins=30, figsize=(12, 6))"
   ]
  },
  {
   "cell_type": "code",
   "execution_count": 39,
   "metadata": {},
   "outputs": [
    {
     "data": {
      "text/plain": [
       "<Axes: >"
      ]
     },
     "execution_count": 39,
     "metadata": {},
     "output_type": "execute_result"
    },
    {
     "data": {
      "image/png": "[encoded data removed]",
      "text/plain": [
       "<Figure size 640x480 with 1 Axes>"
      ]
     },
     "metadata": {},
     "output_type": "display_data"
    }
   ],
   "source": [
    "# Boxplot para detectar outliers\n",
    "import seaborn as sns\n",
    "sns.boxplot(data=df_transform[num_cols])"
   ]
  },
  {
   "cell_type": "code",
   "execution_count": 55,
   "metadata": {},
   "outputs": [],
   "source": [
    "df_transform['Unit Value'] = abs(df_transform['Sales'] / df_transform['Quantity'])"
   ]
  },
  {
   "cell_type": "code",
   "execution_count": 56,
   "metadata": {},
   "outputs": [
    {
     "name": "stdout",
     "output_type": "stream",
     "text": [
      "Empty DataFrame\n",
      "Columns: [Order ID, Order Date, Ship Date, EmailID, Geography, Category, Product Name, Sales, Quantity, Profit, Shipping Delay, Year, Month, YearMonth, Order_Quarter, Country, City, State, Profit Margin, Loss Flag, Sales_Level, Profit_Level, Quantity_Level, Shipping_Speed, Negative Profit, Transaction Type, Is Return, Unit Value]\n",
      "Index: []\n",
      "\n",
      "[0 rows x 28 columns]\n"
     ]
    }
   ],
   "source": [
    "# Filtrar filas con Unit Value <= 0\n",
    "unit_price_invalid = df_transform[df_transform['Unit Value'] <= 0]\n",
    "\n",
    "# Mostrar esas filas\n",
    "print(unit_price_invalid)"
   ]
  },
  {
   "cell_type": "code",
   "execution_count": 41,
   "metadata": {},
   "outputs": [
    {
     "data": {
      "text/html": [
       "<div>\n",
       "<style scoped>\n",
       "    .dataframe tbody tr th:only-of-type {\n",
       "        vertical-align: middle;\n",
       "    }\n",
       "\n",
       "    .dataframe tbody tr th {\n",
       "        vertical-align: top;\n",
       "    }\n",
       "\n",
       "    .dataframe thead th {\n",
       "        text-align: right;\n",
       "    }\n",
       "</style>\n",
       "<table border=\"1\" class=\"dataframe\">\n",
       "  <thead>\n",
       "    <tr style=\"text-align: right;\">\n",
       "      <th></th>\n",
       "      <th>Sales</th>\n",
       "      <th>Profit</th>\n",
       "      <th>Quantity</th>\n",
       "    </tr>\n",
       "    <tr>\n",
       "      <th>Category</th>\n",
       "      <th></th>\n",
       "      <th></th>\n",
       "      <th></th>\n",
       "    </tr>\n",
       "  </thead>\n",
       "  <tbody>\n",
       "    <tr>\n",
       "      <th>Chairs</th>\n",
       "      <td>101781.36</td>\n",
       "      <td>4027.62</td>\n",
       "      <td>734.0</td>\n",
       "    </tr>\n",
       "    <tr>\n",
       "      <th>Phones</th>\n",
       "      <td>98684.39</td>\n",
       "      <td>9111.06</td>\n",
       "      <td>1066.0</td>\n",
       "    </tr>\n",
       "    <tr>\n",
       "      <th>Tables</th>\n",
       "      <td>84754.60</td>\n",
       "      <td>1482.54</td>\n",
       "      <td>481.0</td>\n",
       "    </tr>\n",
       "    <tr>\n",
       "      <th>Storage</th>\n",
       "      <td>70532.84</td>\n",
       "      <td>8645.49</td>\n",
       "      <td>1039.0</td>\n",
       "    </tr>\n",
       "    <tr>\n",
       "      <th>Accessories</th>\n",
       "      <td>61114.10</td>\n",
       "      <td>16484.62</td>\n",
       "      <td>1032.0</td>\n",
       "    </tr>\n",
       "    <tr>\n",
       "      <th>Binders</th>\n",
       "      <td>55961.11</td>\n",
       "      <td>16096.78</td>\n",
       "      <td>1868.0</td>\n",
       "    </tr>\n",
       "    <tr>\n",
       "      <th>Copiers</th>\n",
       "      <td>49749.23</td>\n",
       "      <td>19327.25</td>\n",
       "      <td>88.0</td>\n",
       "    </tr>\n",
       "    <tr>\n",
       "      <th>Machines</th>\n",
       "      <td>42444.14</td>\n",
       "      <td>-618.95</td>\n",
       "      <td>147.0</td>\n",
       "    </tr>\n",
       "    <tr>\n",
       "      <th>Bookcases</th>\n",
       "      <td>36004.18</td>\n",
       "      <td>-1646.50</td>\n",
       "      <td>306.0</td>\n",
       "    </tr>\n",
       "    <tr>\n",
       "      <th>Appliances</th>\n",
       "      <td>30236.32</td>\n",
       "      <td>8261.29</td>\n",
       "      <td>492.0</td>\n",
       "    </tr>\n",
       "    <tr>\n",
       "      <th>Furnishings</th>\n",
       "      <td>30072.73</td>\n",
       "      <td>7641.26</td>\n",
       "      <td>1175.0</td>\n",
       "    </tr>\n",
       "    <tr>\n",
       "      <th>Paper</th>\n",
       "      <td>26663.73</td>\n",
       "      <td>12119.10</td>\n",
       "      <td>1702.0</td>\n",
       "    </tr>\n",
       "    <tr>\n",
       "      <th>Supplies</th>\n",
       "      <td>18127.12</td>\n",
       "      <td>626.11</td>\n",
       "      <td>238.0</td>\n",
       "    </tr>\n",
       "    <tr>\n",
       "      <th>Art</th>\n",
       "      <td>9212.06</td>\n",
       "      <td>2374.15</td>\n",
       "      <td>926.0</td>\n",
       "    </tr>\n",
       "    <tr>\n",
       "      <th>Labels</th>\n",
       "      <td>5078.72</td>\n",
       "      <td>2303.07</td>\n",
       "      <td>480.0</td>\n",
       "    </tr>\n",
       "    <tr>\n",
       "      <th>Envelopes</th>\n",
       "      <td>4118.10</td>\n",
       "      <td>1908.71</td>\n",
       "      <td>227.0</td>\n",
       "    </tr>\n",
       "    <tr>\n",
       "      <th>Fasteners</th>\n",
       "      <td>923.20</td>\n",
       "      <td>275.19</td>\n",
       "      <td>263.0</td>\n",
       "    </tr>\n",
       "  </tbody>\n",
       "</table>\n",
       "</div>"
      ],
      "text/plain": [
       "                 Sales    Profit  Quantity\n",
       "Category                                  \n",
       "Chairs       101781.36   4027.62     734.0\n",
       "Phones        98684.39   9111.06    1066.0\n",
       "Tables        84754.60   1482.54     481.0\n",
       "Storage       70532.84   8645.49    1039.0\n",
       "Accessories   61114.10  16484.62    1032.0\n",
       "Binders       55961.11  16096.78    1868.0\n",
       "Copiers       49749.23  19327.25      88.0\n",
       "Machines      42444.14   -618.95     147.0\n",
       "Bookcases     36004.18  -1646.50     306.0\n",
       "Appliances    30236.32   8261.29     492.0\n",
       "Furnishings   30072.73   7641.26    1175.0\n",
       "Paper         26663.73  12119.10    1702.0\n",
       "Supplies      18127.12    626.11     238.0\n",
       "Art            9212.06   2374.15     926.0\n",
       "Labels         5078.72   2303.07     480.0\n",
       "Envelopes      4118.10   1908.71     227.0\n",
       "Fasteners       923.20    275.19     263.0"
      ]
     },
     "execution_count": 41,
     "metadata": {},
     "output_type": "execute_result"
    }
   ],
   "source": [
    "df_transform.groupby('Category')[num_cols].sum().sort_values(by='Sales', ascending=False)"
   ]
  },
  {
   "cell_type": "code",
   "execution_count": 42,
   "metadata": {},
   "outputs": [
    {
     "data": {
      "text/html": [
       "<div>\n",
       "<style scoped>\n",
       "    .dataframe tbody tr th:only-of-type {\n",
       "        vertical-align: middle;\n",
       "    }\n",
       "\n",
       "    .dataframe tbody tr th {\n",
       "        vertical-align: top;\n",
       "    }\n",
       "\n",
       "    .dataframe thead th {\n",
       "        text-align: right;\n",
       "    }\n",
       "</style>\n",
       "<table border=\"1\" class=\"dataframe\">\n",
       "  <thead>\n",
       "    <tr style=\"text-align: right;\">\n",
       "      <th></th>\n",
       "      <th>Sales</th>\n",
       "      <th>Profit</th>\n",
       "      <th>Quantity</th>\n",
       "    </tr>\n",
       "    <tr>\n",
       "      <th>Product Name</th>\n",
       "      <th></th>\n",
       "      <th></th>\n",
       "      <th></th>\n",
       "    </tr>\n",
       "  </thead>\n",
       "  <tbody>\n",
       "    <tr>\n",
       "      <th>Canon imageCLASS 2200 Advanced Copier</th>\n",
       "      <td>13999.96</td>\n",
       "      <td>6719.98</td>\n",
       "      <td>4.0</td>\n",
       "    </tr>\n",
       "    <tr>\n",
       "      <th>High Speed Automatic Electric Letter Opener</th>\n",
       "      <td>13100.24</td>\n",
       "      <td>524.01</td>\n",
       "      <td>8.0</td>\n",
       "    </tr>\n",
       "    <tr>\n",
       "      <th>Global Troy Executive Leather Low-Back Tilter</th>\n",
       "      <td>10019.61</td>\n",
       "      <td>626.24</td>\n",
       "      <td>25.0</td>\n",
       "    </tr>\n",
       "    <tr>\n",
       "      <th>Fellowes PB500 Electric Punch Plastic Comb Binding Machine with Manual Bind</th>\n",
       "      <td>8134.33</td>\n",
       "      <td>3050.38</td>\n",
       "      <td>8.0</td>\n",
       "    </tr>\n",
       "    <tr>\n",
       "      <th>GuestStacker Chair with Chrome Finish Legs</th>\n",
       "      <td>8030.01</td>\n",
       "      <td>802.99</td>\n",
       "      <td>27.0</td>\n",
       "    </tr>\n",
       "    <tr>\n",
       "      <th>Okidata MB760 Printer</th>\n",
       "      <td>7834.40</td>\n",
       "      <td>881.37</td>\n",
       "      <td>7.0</td>\n",
       "    </tr>\n",
       "    <tr>\n",
       "      <th>Bretford Rectangular Conference Table Tops</th>\n",
       "      <td>7710.66</td>\n",
       "      <td>180.53</td>\n",
       "      <td>26.0</td>\n",
       "    </tr>\n",
       "    <tr>\n",
       "      <th>LogitechÂ P710e Mobile Speakerphone</th>\n",
       "      <td>7467.21</td>\n",
       "      <td>1418.78</td>\n",
       "      <td>29.0</td>\n",
       "    </tr>\n",
       "    <tr>\n",
       "      <th>Canon PC1060 Personal Laser Copier</th>\n",
       "      <td>6719.90</td>\n",
       "      <td>2267.97</td>\n",
       "      <td>12.0</td>\n",
       "    </tr>\n",
       "    <tr>\n",
       "      <th>Hewlett Packard LaserJet 3310 Copier</th>\n",
       "      <td>6239.89</td>\n",
       "      <td>2183.96</td>\n",
       "      <td>13.0</td>\n",
       "    </tr>\n",
       "  </tbody>\n",
       "</table>\n",
       "</div>"
      ],
      "text/plain": [
       "                                                       Sales   Profit  \\\n",
       "Product Name                                                            \n",
       "Canon imageCLASS 2200 Advanced Copier               13999.96  6719.98   \n",
       "High Speed Automatic Electric Letter Opener         13100.24   524.01   \n",
       "Global Troy Executive Leather Low-Back Tilter       10019.61   626.24   \n",
       "Fellowes PB500 Electric Punch Plastic Comb Bind...   8134.33  3050.38   \n",
       "GuestStacker Chair with Chrome Finish Legs           8030.01   802.99   \n",
       "Okidata MB760 Printer                                7834.40   881.37   \n",
       "Bretford Rectangular Conference Table Tops           7710.66   180.53   \n",
       "LogitechÂ P710e Mobile Speakerphone                  7467.21  1418.78   \n",
       "Canon PC1060 Personal Laser Copier                   6719.90  2267.97   \n",
       "Hewlett Packard LaserJet 3310 Copier                 6239.89  2183.96   \n",
       "\n",
       "                                                    Quantity  \n",
       "Product Name                                                  \n",
       "Canon imageCLASS 2200 Advanced Copier                    4.0  \n",
       "High Speed Automatic Electric Letter Opener              8.0  \n",
       "Global Troy Executive Leather Low-Back Tilter           25.0  \n",
       "Fellowes PB500 Electric Punch Plastic Comb Bind...       8.0  \n",
       "GuestStacker Chair with Chrome Finish Legs              27.0  \n",
       "Okidata MB760 Printer                                    7.0  \n",
       "Bretford Rectangular Conference Table Tops              26.0  \n",
       "LogitechÂ P710e Mobile Speakerphone                     29.0  \n",
       "Canon PC1060 Personal Laser Copier                      12.0  \n",
       "Hewlett Packard LaserJet 3310 Copier                    13.0  "
      ]
     },
     "execution_count": 42,
     "metadata": {},
     "output_type": "execute_result"
    }
   ],
   "source": [
    "df_transform.groupby('Product Name')[num_cols].sum().sort_values(by='Sales', ascending=False).head(10)"
   ]
  },
  {
   "cell_type": "code",
   "execution_count": 43,
   "metadata": {},
   "outputs": [
    {
     "data": {
      "text/html": [
       "<div>\n",
       "<style scoped>\n",
       "    .dataframe tbody tr th:only-of-type {\n",
       "        vertical-align: middle;\n",
       "    }\n",
       "\n",
       "    .dataframe tbody tr th {\n",
       "        vertical-align: top;\n",
       "    }\n",
       "\n",
       "    .dataframe thead th {\n",
       "        text-align: right;\n",
       "    }\n",
       "</style>\n",
       "<table border=\"1\" class=\"dataframe\">\n",
       "  <thead>\n",
       "    <tr style=\"text-align: right;\">\n",
       "      <th></th>\n",
       "      <th>Sales</th>\n",
       "      <th>Profit</th>\n",
       "      <th>Quantity</th>\n",
       "    </tr>\n",
       "    <tr>\n",
       "      <th>City</th>\n",
       "      <th></th>\n",
       "      <th></th>\n",
       "      <th></th>\n",
       "    </tr>\n",
       "  </thead>\n",
       "  <tbody>\n",
       "    <tr>\n",
       "      <th>Los Angeles</th>\n",
       "      <td>175851.33</td>\n",
       "      <td>30440.94</td>\n",
       "      <td>2877.0</td>\n",
       "    </tr>\n",
       "    <tr>\n",
       "      <th>Seattle</th>\n",
       "      <td>119540.74</td>\n",
       "      <td>29156.13</td>\n",
       "      <td>1590.0</td>\n",
       "    </tr>\n",
       "    <tr>\n",
       "      <th>San Francisco</th>\n",
       "      <td>112669.09</td>\n",
       "      <td>17507.39</td>\n",
       "      <td>1935.0</td>\n",
       "    </tr>\n",
       "    <tr>\n",
       "      <th>San Diego</th>\n",
       "      <td>47521.05</td>\n",
       "      <td>6377.24</td>\n",
       "      <td>670.0</td>\n",
       "    </tr>\n",
       "    <tr>\n",
       "      <th>Denver</th>\n",
       "      <td>12198.78</td>\n",
       "      <td>-244.91</td>\n",
       "      <td>164.0</td>\n",
       "    </tr>\n",
       "    <tr>\n",
       "      <th>Phoenix</th>\n",
       "      <td>11000.27</td>\n",
       "      <td>-2790.85</td>\n",
       "      <td>224.0</td>\n",
       "    </tr>\n",
       "    <tr>\n",
       "      <th>North Las Vegas</th>\n",
       "      <td>9801.00</td>\n",
       "      <td>2247.68</td>\n",
       "      <td>58.0</td>\n",
       "    </tr>\n",
       "    <tr>\n",
       "      <th>Anaheim</th>\n",
       "      <td>7986.88</td>\n",
       "      <td>1233.98</td>\n",
       "      <td>112.0</td>\n",
       "    </tr>\n",
       "    <tr>\n",
       "      <th>Fresno</th>\n",
       "      <td>7888.53</td>\n",
       "      <td>948.26</td>\n",
       "      <td>106.0</td>\n",
       "    </tr>\n",
       "    <tr>\n",
       "      <th>Sacramento</th>\n",
       "      <td>7311.26</td>\n",
       "      <td>2069.69</td>\n",
       "      <td>36.0</td>\n",
       "    </tr>\n",
       "  </tbody>\n",
       "</table>\n",
       "</div>"
      ],
      "text/plain": [
       "                     Sales    Profit  Quantity\n",
       "City                                          \n",
       "Los Angeles      175851.33  30440.94    2877.0\n",
       "Seattle          119540.74  29156.13    1590.0\n",
       "San Francisco    112669.09  17507.39    1935.0\n",
       "San Diego         47521.05   6377.24     670.0\n",
       "Denver            12198.78   -244.91     164.0\n",
       "Phoenix           11000.27  -2790.85     224.0\n",
       "North Las Vegas    9801.00   2247.68      58.0\n",
       "Anaheim            7986.88   1233.98     112.0\n",
       "Fresno             7888.53    948.26     106.0\n",
       "Sacramento         7311.26   2069.69      36.0"
      ]
     },
     "execution_count": 43,
     "metadata": {},
     "output_type": "execute_result"
    }
   ],
   "source": [
    "df_transform.groupby('City')[num_cols].sum().sort_values(by='Sales', ascending=False).head(10)"
   ]
  },
  {
   "cell_type": "code",
   "execution_count": 44,
   "metadata": {},
   "outputs": [
    {
     "data": {
      "text/html": [
       "<div>\n",
       "<style scoped>\n",
       "    .dataframe tbody tr th:only-of-type {\n",
       "        vertical-align: middle;\n",
       "    }\n",
       "\n",
       "    .dataframe tbody tr th {\n",
       "        vertical-align: top;\n",
       "    }\n",
       "\n",
       "    .dataframe thead th {\n",
       "        text-align: right;\n",
       "    }\n",
       "</style>\n",
       "<table border=\"1\" class=\"dataframe\">\n",
       "  <thead>\n",
       "    <tr style=\"text-align: right;\">\n",
       "      <th></th>\n",
       "      <th>Sales</th>\n",
       "      <th>Profit</th>\n",
       "      <th>Quantity</th>\n",
       "    </tr>\n",
       "    <tr>\n",
       "      <th>EmailID</th>\n",
       "      <th></th>\n",
       "      <th></th>\n",
       "      <th></th>\n",
       "    </tr>\n",
       "  </thead>\n",
       "  <tbody>\n",
       "    <tr>\n",
       "      <th>RaymondBuch@gmail.com</th>\n",
       "      <td>14345.28</td>\n",
       "      <td>6807.08</td>\n",
       "      <td>23.0</td>\n",
       "    </tr>\n",
       "    <tr>\n",
       "      <th>KenLonsdale@gmail.com</th>\n",
       "      <td>8472.39</td>\n",
       "      <td>426.61</td>\n",
       "      <td>32.0</td>\n",
       "    </tr>\n",
       "    <tr>\n",
       "      <th>EdwardHooks@gmail.com</th>\n",
       "      <td>7447.77</td>\n",
       "      <td>589.74</td>\n",
       "      <td>51.0</td>\n",
       "    </tr>\n",
       "    <tr>\n",
       "      <th>JaneWaco@gmail.com</th>\n",
       "      <td>7391.53</td>\n",
       "      <td>2073.29</td>\n",
       "      <td>35.0</td>\n",
       "    </tr>\n",
       "    <tr>\n",
       "      <th>KarenFerguson@gmail.com</th>\n",
       "      <td>7182.76</td>\n",
       "      <td>878.42</td>\n",
       "      <td>34.0</td>\n",
       "    </tr>\n",
       "    <tr>\n",
       "      <th>NickCrebassa@gmail.com</th>\n",
       "      <td>6734.23</td>\n",
       "      <td>706.58</td>\n",
       "      <td>38.0</td>\n",
       "    </tr>\n",
       "    <tr>\n",
       "      <th>ClayLudtke@gmail.com</th>\n",
       "      <td>6069.65</td>\n",
       "      <td>890.33</td>\n",
       "      <td>63.0</td>\n",
       "    </tr>\n",
       "    <tr>\n",
       "      <th>YanaSorensen@gmail.com</th>\n",
       "      <td>5754.17</td>\n",
       "      <td>1551.61</td>\n",
       "      <td>38.0</td>\n",
       "    </tr>\n",
       "    <tr>\n",
       "      <th>NoraPreis@gmail.com</th>\n",
       "      <td>5564.60</td>\n",
       "      <td>367.72</td>\n",
       "      <td>42.0</td>\n",
       "    </tr>\n",
       "    <tr>\n",
       "      <th>WilliamBrown@gmail.com</th>\n",
       "      <td>5523.06</td>\n",
       "      <td>825.29</td>\n",
       "      <td>93.0</td>\n",
       "    </tr>\n",
       "  </tbody>\n",
       "</table>\n",
       "</div>"
      ],
      "text/plain": [
       "                            Sales   Profit  Quantity\n",
       "EmailID                                             \n",
       "RaymondBuch@gmail.com    14345.28  6807.08      23.0\n",
       "KenLonsdale@gmail.com     8472.39   426.61      32.0\n",
       "EdwardHooks@gmail.com     7447.77   589.74      51.0\n",
       "JaneWaco@gmail.com        7391.53  2073.29      35.0\n",
       "KarenFerguson@gmail.com   7182.76   878.42      34.0\n",
       "NickCrebassa@gmail.com    6734.23   706.58      38.0\n",
       "ClayLudtke@gmail.com      6069.65   890.33      63.0\n",
       "YanaSorensen@gmail.com    5754.17  1551.61      38.0\n",
       "NoraPreis@gmail.com       5564.60   367.72      42.0\n",
       "WilliamBrown@gmail.com    5523.06   825.29      93.0"
      ]
     },
     "execution_count": 44,
     "metadata": {},
     "output_type": "execute_result"
    }
   ],
   "source": [
    "df_transform.groupby('EmailID')[num_cols].sum().sort_values(by='Sales', ascending=False).head(10)"
   ]
  },
  {
   "cell_type": "code",
   "execution_count": 26,
   "metadata": {},
   "outputs": [
    {
     "data": {
      "text/plain": [
       "<Axes: xlabel='YearMonth'>"
      ]
     },
     "execution_count": 26,
     "metadata": {},
     "output_type": "execute_result"
    },
    {
     "data": {
      "image/png": "[encoded data removed]",
      "text/plain": [
       "<Figure size 1000x500 with 1 Axes>"
      ]
     },
     "metadata": {},
     "output_type": "display_data"
    }
   ],
   "source": [
    "df_transform.groupby('YearMonth')[['Sales', 'Profit']].sum().plot(kind='line', figsize=(10,5))"
   ]
  },
  {
   "cell_type": "code",
   "execution_count": 28,
   "metadata": {},
   "outputs": [],
   "source": [
    "def classify_sales(x):\n",
    "    if x < 19.44:\n",
    "        return 'Baja'\n",
    "    elif x < 60.84:\n",
    "        return 'Media-baja'\n",
    "    elif x < 215.81:\n",
    "        return 'Media-alta'\n",
    "    else:\n",
    "        return 'Alta'\n",
    "\n",
    "df_transform['Sales_Level'] = df_transform['Sales'].apply(classify_sales)"
   ]
  },
  {
   "cell_type": "code",
   "execution_count": 29,
   "metadata": {},
   "outputs": [],
   "source": [
    "def classify_profit(x):\n",
    "    if x < 0:\n",
    "        return 'Pérdida'\n",
    "    elif x < 11.17:\n",
    "        return 'Ganancia baja'\n",
    "    elif x < 33.00:\n",
    "        return 'Ganancia media'\n",
    "    else:\n",
    "        return 'Ganancia alta'\n",
    "\n",
    "df_transform['Profit_Level'] = df_transform['Profit'].apply(classify_profit)"
   ]
  },
  {
   "cell_type": "code",
   "execution_count": 30,
   "metadata": {},
   "outputs": [],
   "source": [
    "def classify_quantity(x):\n",
    "    if x <= 2:\n",
    "        return 'Poca'\n",
    "    elif x <= 5:\n",
    "        return 'Moderada'\n",
    "    else:\n",
    "        return 'Alta'\n",
    "\n",
    "df_transform['Quantity_Level'] = df_transform['Quantity'].apply(classify_quantity)"
   ]
  },
  {
   "cell_type": "code",
   "execution_count": 31,
   "metadata": {},
   "outputs": [],
   "source": [
    "def clasificar_shipping(dias):\n",
    "    if dias <= 2:\n",
    "        return 'Muy Rápido'\n",
    "    elif dias <= 4:\n",
    "        return 'Normal'\n",
    "    elif dias <= 6:\n",
    "        return 'Lento'\n",
    "    else:\n",
    "        return 'Muy Lento'\n",
    "\n",
    "df_transform['Shipping_Speed'] = df_transform['Shipping Delay'].apply(clasificar_shipping)"
   ]
  },
  {
   "cell_type": "code",
   "execution_count": 57,
   "metadata": {},
   "outputs": [
    {
     "data": {
      "text/plain": [
       "(3203, 28)"
      ]
     },
     "execution_count": 57,
     "metadata": {},
     "output_type": "execute_result"
    }
   ],
   "source": [
    "#Ver cantidad de columnas y filas\n",
    "df_transform.shape"
   ]
  },
  {
   "cell_type": "code",
   "execution_count": null,
   "metadata": {},
   "outputs": [],
   "source": [
    "df_transform.to_csv('mi_dataset_transformado.csv', index=False)"
   ]
  },
  {
   "cell_type": "markdown",
   "metadata": {},
   "source": [
    "Exploración de palabras más usadas en columna Product Name"
   ]
  }
 ],
 "metadata": {
  "kernelspec": {
   "display_name": "base",
   "language": "python",
   "name": "python3"
  },
  "language_info": {
   "codemirror_mode": {
    "name": "ipython",
    "version": 3
   },
   "file_extension": ".py",
   "mimetype": "text/x-python",
   "name": "python",
   "nbconvert_exporter": "python",
   "pygments_lexer": "ipython3",
   "version": "3.13.5"
  }
 },
 "nbformat": 4,
 "nbformat_minor": 2
}
